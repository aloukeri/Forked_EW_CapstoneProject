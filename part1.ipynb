{
  "nbformat": 4,
  "nbformat_minor": 0,
  "metadata": {
    "kernelspec": {
      "display_name": "Python 3",
      "language": "python",
      "name": "python3"
    },
    "language_info": {
      "codemirror_mode": {
        "name": "ipython",
        "version": 3
      },
      "file_extension": ".py",
      "mimetype": "text/x-python",
      "name": "python",
      "nbconvert_exporter": "python",
      "pygments_lexer": "ipython3",
      "version": "3.7.7"
    },
    "colab": {
      "name": "part1.ipynb",
      "provenance": [],
      "collapsed_sections": []
    }
  },
  "cells": [
    {
      "cell_type": "code",
      "metadata": {
        "id": "YgK1mLSxRGNf"
      },
      "source": [
        "import os\n",
        "import numpy as np\n",
        "import re\n",
        "import pandas as pd\n",
        "import matplotlib.pyplot as plt\n",
        "import seaborn as sns\n",
        "\n",
        "DATA_DIR = os.path.join(\".\",\"data\",\"cs-train\")"
      ],
      "execution_count": 22,
      "outputs": []
    },
    {
      "cell_type": "code",
      "metadata": {
        "id": "XJg3d1C_RGNs"
      },
      "source": [
        "def makeHistogram(dataframe, column_name, label_name, UL, bin_number):\n",
        "    f, ax = plt.subplots(figsize=(9, 4))\n",
        "    plt.hist(dataframe[column_name], bins = bin_number, label = label_name)\n",
        "    plt.xlim(0,UL)\n",
        "    plt.legend(loc='upper right')\n",
        "    \n",
        "def fixOutliers(data, colname): \n",
        "    std = data[colname].std()\n",
        "    mean = data[colname].mean()\n",
        "    ul = mean + 3*std \n",
        "    ll = mean - 3*std\n",
        "    if ll < 0: ll = 0 # only positive values\n",
        "    return data.drop(set(data[(data[colname] > ul)|(data[colname] <= ll)].index))"
      ],
      "execution_count": 23,
      "outputs": []
    },
    {
      "cell_type": "code",
      "metadata": {
        "colab": {
          "base_uri": "https://localhost:8080/"
        },
        "id": "50LaEwUZRGNv",
        "outputId": "baf79d5e-efe3-41dc-f7ea-a318cf4e52c3"
      },
      "source": [
        "df = pd.DataFrame()\n",
        "\n",
        "dataset_names = sorted([f for f in os.listdir(DATA_DIR) if os.path.isfile(os.path.join(DATA_DIR, f))])\n",
        "print(\"The following \", len(dataset_names), \" dataframes will be used for training:\\n\")\n",
        "\n",
        "for name in dataset_names:\n",
        "    print(name)\n",
        "    path = os.path.join(DATA_DIR, name)\n",
        "    df_name = pd.read_json(path)\n",
        "    df = df.append(df_name)\n",
        "\n",
        "# df = df.rename(columns={'total_price': 'Total_Price','StreamID': 'Stream_Id', 'TimesViewed': 'Times_Viewed'})\n",
        " "
      ],
      "execution_count": 24,
      "outputs": [
        {
          "output_type": "stream",
          "text": [
            "The following  21  dataframes will be used for training:\n",
            "\n",
            "invoices-2017-11.json\n",
            "invoices-2017-12.json\n",
            "invoices-2018-01.json\n",
            "invoices-2018-02.json\n",
            "invoices-2018-03.json\n",
            "invoices-2018-04.json\n",
            "invoices-2018-05.json\n",
            "invoices-2018-06.json\n",
            "invoices-2018-07.json\n",
            "invoices-2018-08.json\n",
            "invoices-2018-09.json\n",
            "invoices-2018-10.json\n",
            "invoices-2018-11.json\n",
            "invoices-2018-12.json\n",
            "invoices-2019-01.json\n",
            "invoices-2019-02.json\n",
            "invoices-2019-03.json\n",
            "invoices-2019-04.json\n",
            "invoices-2019-05.json\n",
            "invoices-2019-06.json\n",
            "invoices-2019-07.json\n"
          ],
          "name": "stdout"
        }
      ]
    },
    {
      "cell_type": "code",
      "metadata": {
        "id": "9BaB4pKwRGN0",
        "colab": {
          "base_uri": "https://localhost:8080/",
          "height": 216
        },
        "outputId": "2ba19b79-e99c-46cd-8896-e464f4b37bb1"
      },
      "source": [
        "df.head(3)"
      ],
      "execution_count": 25,
      "outputs": [
        {
          "output_type": "execute_result",
          "data": {
            "text/html": [
              "<div>\n",
              "<style scoped>\n",
              "    .dataframe tbody tr th:only-of-type {\n",
              "        vertical-align: middle;\n",
              "    }\n",
              "\n",
              "    .dataframe tbody tr th {\n",
              "        vertical-align: top;\n",
              "    }\n",
              "\n",
              "    .dataframe thead th {\n",
              "        text-align: right;\n",
              "    }\n",
              "</style>\n",
              "<table border=\"1\" class=\"dataframe\">\n",
              "  <thead>\n",
              "    <tr style=\"text-align: right;\">\n",
              "      <th></th>\n",
              "      <th>country</th>\n",
              "      <th>customer_id</th>\n",
              "      <th>invoice</th>\n",
              "      <th>price</th>\n",
              "      <th>stream_id</th>\n",
              "      <th>times_viewed</th>\n",
              "      <th>year</th>\n",
              "      <th>month</th>\n",
              "      <th>day</th>\n",
              "      <th>total_price</th>\n",
              "      <th>StreamID</th>\n",
              "      <th>TimesViewed</th>\n",
              "    </tr>\n",
              "  </thead>\n",
              "  <tbody>\n",
              "    <tr>\n",
              "      <th>0</th>\n",
              "      <td>United Kingdom</td>\n",
              "      <td>13085.0</td>\n",
              "      <td>489434</td>\n",
              "      <td>6.95</td>\n",
              "      <td>85048</td>\n",
              "      <td>12.0</td>\n",
              "      <td>2017</td>\n",
              "      <td>11</td>\n",
              "      <td>28</td>\n",
              "      <td>NaN</td>\n",
              "      <td>NaN</td>\n",
              "      <td>NaN</td>\n",
              "    </tr>\n",
              "    <tr>\n",
              "      <th>1</th>\n",
              "      <td>United Kingdom</td>\n",
              "      <td>NaN</td>\n",
              "      <td>489597</td>\n",
              "      <td>8.65</td>\n",
              "      <td>22130</td>\n",
              "      <td>1.0</td>\n",
              "      <td>2017</td>\n",
              "      <td>11</td>\n",
              "      <td>28</td>\n",
              "      <td>NaN</td>\n",
              "      <td>NaN</td>\n",
              "      <td>NaN</td>\n",
              "    </tr>\n",
              "    <tr>\n",
              "      <th>2</th>\n",
              "      <td>United Kingdom</td>\n",
              "      <td>NaN</td>\n",
              "      <td>489597</td>\n",
              "      <td>1.70</td>\n",
              "      <td>22132</td>\n",
              "      <td>6.0</td>\n",
              "      <td>2017</td>\n",
              "      <td>11</td>\n",
              "      <td>28</td>\n",
              "      <td>NaN</td>\n",
              "      <td>NaN</td>\n",
              "      <td>NaN</td>\n",
              "    </tr>\n",
              "  </tbody>\n",
              "</table>\n",
              "</div>"
            ],
            "text/plain": [
              "          country  customer_id invoice  ...  total_price StreamID  TimesViewed\n",
              "0  United Kingdom      13085.0  489434  ...          NaN      NaN          NaN\n",
              "1  United Kingdom          NaN  489597  ...          NaN      NaN          NaN\n",
              "2  United Kingdom          NaN  489597  ...          NaN      NaN          NaN\n",
              "\n",
              "[3 rows x 12 columns]"
            ]
          },
          "metadata": {
            "tags": []
          },
          "execution_count": 25
        }
      ]
    },
    {
      "cell_type": "code",
      "metadata": {
        "id": "dg2jzCC3RGN5",
        "colab": {
          "base_uri": "https://localhost:8080/",
          "height": 216
        },
        "outputId": "fffa4216-266b-44f9-fcf4-0a1e737b7b43"
      },
      "source": [
        "df[\"date\"] = pd.to_datetime(df.year*10000+df.month*100+df.day, format='%Y%m%d')\n",
        "df = df.drop(columns=['year', 'month', 'day'])\n",
        "df.head(3)"
      ],
      "execution_count": 26,
      "outputs": [
        {
          "output_type": "execute_result",
          "data": {
            "text/html": [
              "<div>\n",
              "<style scoped>\n",
              "    .dataframe tbody tr th:only-of-type {\n",
              "        vertical-align: middle;\n",
              "    }\n",
              "\n",
              "    .dataframe tbody tr th {\n",
              "        vertical-align: top;\n",
              "    }\n",
              "\n",
              "    .dataframe thead th {\n",
              "        text-align: right;\n",
              "    }\n",
              "</style>\n",
              "<table border=\"1\" class=\"dataframe\">\n",
              "  <thead>\n",
              "    <tr style=\"text-align: right;\">\n",
              "      <th></th>\n",
              "      <th>country</th>\n",
              "      <th>customer_id</th>\n",
              "      <th>invoice</th>\n",
              "      <th>price</th>\n",
              "      <th>stream_id</th>\n",
              "      <th>times_viewed</th>\n",
              "      <th>total_price</th>\n",
              "      <th>StreamID</th>\n",
              "      <th>TimesViewed</th>\n",
              "      <th>date</th>\n",
              "    </tr>\n",
              "  </thead>\n",
              "  <tbody>\n",
              "    <tr>\n",
              "      <th>0</th>\n",
              "      <td>United Kingdom</td>\n",
              "      <td>13085.0</td>\n",
              "      <td>489434</td>\n",
              "      <td>6.95</td>\n",
              "      <td>85048</td>\n",
              "      <td>12.0</td>\n",
              "      <td>NaN</td>\n",
              "      <td>NaN</td>\n",
              "      <td>NaN</td>\n",
              "      <td>2017-11-28</td>\n",
              "    </tr>\n",
              "    <tr>\n",
              "      <th>1</th>\n",
              "      <td>United Kingdom</td>\n",
              "      <td>NaN</td>\n",
              "      <td>489597</td>\n",
              "      <td>8.65</td>\n",
              "      <td>22130</td>\n",
              "      <td>1.0</td>\n",
              "      <td>NaN</td>\n",
              "      <td>NaN</td>\n",
              "      <td>NaN</td>\n",
              "      <td>2017-11-28</td>\n",
              "    </tr>\n",
              "    <tr>\n",
              "      <th>2</th>\n",
              "      <td>United Kingdom</td>\n",
              "      <td>NaN</td>\n",
              "      <td>489597</td>\n",
              "      <td>1.70</td>\n",
              "      <td>22132</td>\n",
              "      <td>6.0</td>\n",
              "      <td>NaN</td>\n",
              "      <td>NaN</td>\n",
              "      <td>NaN</td>\n",
              "      <td>2017-11-28</td>\n",
              "    </tr>\n",
              "  </tbody>\n",
              "</table>\n",
              "</div>"
            ],
            "text/plain": [
              "          country  customer_id invoice  ...  StreamID TimesViewed       date\n",
              "0  United Kingdom      13085.0  489434  ...       NaN         NaN 2017-11-28\n",
              "1  United Kingdom          NaN  489597  ...       NaN         NaN 2017-11-28\n",
              "2  United Kingdom          NaN  489597  ...       NaN         NaN 2017-11-28\n",
              "\n",
              "[3 rows x 10 columns]"
            ]
          },
          "metadata": {
            "tags": []
          },
          "execution_count": 26
        }
      ]
    },
    {
      "cell_type": "code",
      "metadata": {
        "id": "3F6uIS_HRGN9",
        "colab": {
          "base_uri": "https://localhost:8080/"
        },
        "outputId": "c582200c-01c1-4fd4-f3ae-d1d8509a2c4f"
      },
      "source": [
        "df['invoice'] = [re.sub(\"\\D+\",\"\",i) for i in df['invoice'].values]\r\n",
        "df['invoice'].value_counts()"
      ],
      "execution_count": 27,
      "outputs": [
        {
          "output_type": "execute_result",
          "data": {
            "text/plain": [
              "537434    1350\n",
              "538071    1304\n",
              "537638    1202\n",
              "537237    1194\n",
              "536876    1186\n",
              "          ... \n",
              "502652       1\n",
              "543663       1\n",
              "495219       1\n",
              "559677       1\n",
              "498920       1\n",
              "Name: invoice, Length: 42646, dtype: int64"
            ]
          },
          "metadata": {
            "tags": []
          },
          "execution_count": 27
        }
      ]
    },
    {
      "cell_type": "code",
      "metadata": {
        "id": "lSdMHWl7RGN_",
        "colab": {
          "base_uri": "https://localhost:8080/",
          "height": 300
        },
        "outputId": "3f1ae0f6-0e62-47bb-bd49-ae6a7e4a57f0"
      },
      "source": [
        "df.describe()"
      ],
      "execution_count": 28,
      "outputs": [
        {
          "output_type": "execute_result",
          "data": {
            "text/html": [
              "<div>\n",
              "<style scoped>\n",
              "    .dataframe tbody tr th:only-of-type {\n",
              "        vertical-align: middle;\n",
              "    }\n",
              "\n",
              "    .dataframe tbody tr th {\n",
              "        vertical-align: top;\n",
              "    }\n",
              "\n",
              "    .dataframe thead th {\n",
              "        text-align: right;\n",
              "    }\n",
              "</style>\n",
              "<table border=\"1\" class=\"dataframe\">\n",
              "  <thead>\n",
              "    <tr style=\"text-align: right;\">\n",
              "      <th></th>\n",
              "      <th>customer_id</th>\n",
              "      <th>price</th>\n",
              "      <th>times_viewed</th>\n",
              "      <th>total_price</th>\n",
              "      <th>TimesViewed</th>\n",
              "    </tr>\n",
              "  </thead>\n",
              "  <tbody>\n",
              "    <tr>\n",
              "      <th>count</th>\n",
              "      <td>625249.000000</td>\n",
              "      <td>654316.000000</td>\n",
              "      <td>292297.000000</td>\n",
              "      <td>160695.000000</td>\n",
              "      <td>522714.000000</td>\n",
              "    </tr>\n",
              "    <tr>\n",
              "      <th>mean</th>\n",
              "      <td>15333.415068</td>\n",
              "      <td>4.615812</td>\n",
              "      <td>5.213269</td>\n",
              "      <td>5.563319</td>\n",
              "      <td>5.241080</td>\n",
              "    </tr>\n",
              "    <tr>\n",
              "      <th>std</th>\n",
              "      <td>1698.360788</td>\n",
              "      <td>137.830821</td>\n",
              "      <td>5.111288</td>\n",
              "      <td>123.125964</td>\n",
              "      <td>5.109229</td>\n",
              "    </tr>\n",
              "    <tr>\n",
              "      <th>min</th>\n",
              "      <td>12346.000000</td>\n",
              "      <td>-53594.360000</td>\n",
              "      <td>0.000000</td>\n",
              "      <td>0.000000</td>\n",
              "      <td>0.000000</td>\n",
              "    </tr>\n",
              "    <tr>\n",
              "      <th>25%</th>\n",
              "      <td>13956.000000</td>\n",
              "      <td>1.250000</td>\n",
              "      <td>1.000000</td>\n",
              "      <td>1.250000</td>\n",
              "      <td>1.000000</td>\n",
              "    </tr>\n",
              "    <tr>\n",
              "      <th>50%</th>\n",
              "      <td>15279.000000</td>\n",
              "      <td>2.100000</td>\n",
              "      <td>3.000000</td>\n",
              "      <td>2.510000</td>\n",
              "      <td>3.000000</td>\n",
              "    </tr>\n",
              "    <tr>\n",
              "      <th>75%</th>\n",
              "      <td>16813.000000</td>\n",
              "      <td>4.150000</td>\n",
              "      <td>8.000000</td>\n",
              "      <td>4.250000</td>\n",
              "      <td>8.000000</td>\n",
              "    </tr>\n",
              "    <tr>\n",
              "      <th>max</th>\n",
              "      <td>18287.000000</td>\n",
              "      <td>38970.000000</td>\n",
              "      <td>24.000000</td>\n",
              "      <td>16888.020000</td>\n",
              "      <td>24.000000</td>\n",
              "    </tr>\n",
              "  </tbody>\n",
              "</table>\n",
              "</div>"
            ],
            "text/plain": [
              "         customer_id          price  ...    total_price    TimesViewed\n",
              "count  625249.000000  654316.000000  ...  160695.000000  522714.000000\n",
              "mean    15333.415068       4.615812  ...       5.563319       5.241080\n",
              "std      1698.360788     137.830821  ...     123.125964       5.109229\n",
              "min     12346.000000  -53594.360000  ...       0.000000       0.000000\n",
              "25%     13956.000000       1.250000  ...       1.250000       1.000000\n",
              "50%     15279.000000       2.100000  ...       2.510000       3.000000\n",
              "75%     16813.000000       4.150000  ...       4.250000       8.000000\n",
              "max     18287.000000   38970.000000  ...   16888.020000      24.000000\n",
              "\n",
              "[8 rows x 5 columns]"
            ]
          },
          "metadata": {
            "tags": []
          },
          "execution_count": 28
        }
      ]
    },
    {
      "cell_type": "code",
      "metadata": {
        "id": "NIOscA11RGOB"
      },
      "source": [
        "# Remove outliers\n",
        "df = df[df['price'].between(df['price'].quantile(0.01), df['price'].quantile(0.99))]\n",
        "#df=fixOutliers(df, 'price')"
      ],
      "execution_count": 29,
      "outputs": []
    },
    {
      "cell_type": "code",
      "metadata": {
        "id": "cqid9kLgRGOC",
        "colab": {
          "base_uri": "https://localhost:8080/",
          "height": 300
        },
        "outputId": "0cbe2bc5-32ad-4b5e-edc9-3bc8dfedb227"
      },
      "source": [
        "df.describe()"
      ],
      "execution_count": 30,
      "outputs": [
        {
          "output_type": "execute_result",
          "data": {
            "text/html": [
              "<div>\n",
              "<style scoped>\n",
              "    .dataframe tbody tr th:only-of-type {\n",
              "        vertical-align: middle;\n",
              "    }\n",
              "\n",
              "    .dataframe tbody tr th {\n",
              "        vertical-align: top;\n",
              "    }\n",
              "\n",
              "    .dataframe thead th {\n",
              "        text-align: right;\n",
              "    }\n",
              "</style>\n",
              "<table border=\"1\" class=\"dataframe\">\n",
              "  <thead>\n",
              "    <tr style=\"text-align: right;\">\n",
              "      <th></th>\n",
              "      <th>customer_id</th>\n",
              "      <th>price</th>\n",
              "      <th>times_viewed</th>\n",
              "      <th>total_price</th>\n",
              "      <th>TimesViewed</th>\n",
              "    </tr>\n",
              "  </thead>\n",
              "  <tbody>\n",
              "    <tr>\n",
              "      <th>count</th>\n",
              "      <td>514692.000000</td>\n",
              "      <td>641507.000000</td>\n",
              "      <td>213000.000000</td>\n",
              "      <td>0.0</td>\n",
              "      <td>428507.000000</td>\n",
              "    </tr>\n",
              "    <tr>\n",
              "      <th>mean</th>\n",
              "      <td>15333.331064</td>\n",
              "      <td>3.213593</td>\n",
              "      <td>5.389352</td>\n",
              "      <td>NaN</td>\n",
              "      <td>5.398535</td>\n",
              "    </tr>\n",
              "    <tr>\n",
              "      <th>std</th>\n",
              "      <td>1692.454852</td>\n",
              "      <td>3.063650</td>\n",
              "      <td>5.156441</td>\n",
              "      <td>NaN</td>\n",
              "      <td>5.149826</td>\n",
              "    </tr>\n",
              "    <tr>\n",
              "      <th>min</th>\n",
              "      <td>12346.000000</td>\n",
              "      <td>0.210000</td>\n",
              "      <td>0.000000</td>\n",
              "      <td>NaN</td>\n",
              "      <td>0.000000</td>\n",
              "    </tr>\n",
              "    <tr>\n",
              "      <th>25%</th>\n",
              "      <td>13957.000000</td>\n",
              "      <td>1.250000</td>\n",
              "      <td>1.000000</td>\n",
              "      <td>NaN</td>\n",
              "      <td>1.000000</td>\n",
              "    </tr>\n",
              "    <tr>\n",
              "      <th>50%</th>\n",
              "      <td>15271.000000</td>\n",
              "      <td>2.100000</td>\n",
              "      <td>3.000000</td>\n",
              "      <td>NaN</td>\n",
              "      <td>3.000000</td>\n",
              "    </tr>\n",
              "    <tr>\n",
              "      <th>75%</th>\n",
              "      <td>16801.000000</td>\n",
              "      <td>4.130000</td>\n",
              "      <td>9.000000</td>\n",
              "      <td>NaN</td>\n",
              "      <td>9.000000</td>\n",
              "    </tr>\n",
              "    <tr>\n",
              "      <th>max</th>\n",
              "      <td>18287.000000</td>\n",
              "      <td>19.950000</td>\n",
              "      <td>24.000000</td>\n",
              "      <td>NaN</td>\n",
              "      <td>24.000000</td>\n",
              "    </tr>\n",
              "  </tbody>\n",
              "</table>\n",
              "</div>"
            ],
            "text/plain": [
              "         customer_id          price   times_viewed  total_price    TimesViewed\n",
              "count  514692.000000  641507.000000  213000.000000          0.0  428507.000000\n",
              "mean    15333.331064       3.213593       5.389352          NaN       5.398535\n",
              "std      1692.454852       3.063650       5.156441          NaN       5.149826\n",
              "min     12346.000000       0.210000       0.000000          NaN       0.000000\n",
              "25%     13957.000000       1.250000       1.000000          NaN       1.000000\n",
              "50%     15271.000000       2.100000       3.000000          NaN       3.000000\n",
              "75%     16801.000000       4.130000       9.000000          NaN       9.000000\n",
              "max     18287.000000      19.950000      24.000000          NaN      24.000000"
            ]
          },
          "metadata": {
            "tags": []
          },
          "execution_count": 30
        }
      ]
    },
    {
      "cell_type": "code",
      "metadata": {
        "id": "TjAtIj_MRGOD",
        "colab": {
          "base_uri": "https://localhost:8080/",
          "height": 265
        },
        "outputId": "233bef42-fd0f-4fbf-af1e-9c4a6b767353"
      },
      "source": [
        "makeHistogram(df, 'price', 'price', 20, 20)"
      ],
      "execution_count": 31,
      "outputs": [
        {
          "output_type": "display_data",
          "data": {
            "image/png": "[encoded data removed]",
            "text/plain": [
              "<Figure size 648x288 with 1 Axes>"
            ]
          },
          "metadata": {
            "tags": [],
            "needs_background": "light"
          }
        }
      ]
    },
    {
      "cell_type": "code",
      "metadata": {
        "id": "xTxZ-ZNoRGOI",
        "colab": {
          "base_uri": "https://localhost:8080/",
          "height": 394
        },
        "outputId": "9440c8e2-2d0c-4d92-bbe4-2ddaf959d888"
      },
      "source": [
        "columns_to_show =['price']\n",
        "pd.pivot_table(df, index = ['country'], values=columns_to_show, aggfunc='sum').sort_values('price', ascending=False).head(10).round(1)"
      ],
      "execution_count": 32,
      "outputs": [
        {
          "output_type": "execute_result",
          "data": {
            "text/html": [
              "<div>\n",
              "<style scoped>\n",
              "    .dataframe tbody tr th:only-of-type {\n",
              "        vertical-align: middle;\n",
              "    }\n",
              "\n",
              "    .dataframe tbody tr th {\n",
              "        vertical-align: top;\n",
              "    }\n",
              "\n",
              "    .dataframe thead th {\n",
              "        text-align: right;\n",
              "    }\n",
              "</style>\n",
              "<table border=\"1\" class=\"dataframe\">\n",
              "  <thead>\n",
              "    <tr style=\"text-align: right;\">\n",
              "      <th></th>\n",
              "      <th>price</th>\n",
              "    </tr>\n",
              "    <tr>\n",
              "      <th>country</th>\n",
              "      <th></th>\n",
              "    </tr>\n",
              "  </thead>\n",
              "  <tbody>\n",
              "    <tr>\n",
              "      <th>United Kingdom</th>\n",
              "      <td>1898994.6</td>\n",
              "    </tr>\n",
              "    <tr>\n",
              "      <th>EIRE</th>\n",
              "      <td>39624.1</td>\n",
              "    </tr>\n",
              "    <tr>\n",
              "      <th>Germany</th>\n",
              "      <td>34758.4</td>\n",
              "    </tr>\n",
              "    <tr>\n",
              "      <th>France</th>\n",
              "      <td>24395.7</td>\n",
              "    </tr>\n",
              "    <tr>\n",
              "      <th>Netherlands</th>\n",
              "      <td>8490.6</td>\n",
              "    </tr>\n",
              "    <tr>\n",
              "      <th>Belgium</th>\n",
              "      <td>6554.3</td>\n",
              "    </tr>\n",
              "    <tr>\n",
              "      <th>Switzerland</th>\n",
              "      <td>6182.9</td>\n",
              "    </tr>\n",
              "    <tr>\n",
              "      <th>Spain</th>\n",
              "      <td>4859.2</td>\n",
              "    </tr>\n",
              "    <tr>\n",
              "      <th>Channel Islands</th>\n",
              "      <td>4291.4</td>\n",
              "    </tr>\n",
              "    <tr>\n",
              "      <th>Portugal</th>\n",
              "      <td>3912.5</td>\n",
              "    </tr>\n",
              "  </tbody>\n",
              "</table>\n",
              "</div>"
            ],
            "text/plain": [
              "                     price\n",
              "country                   \n",
              "United Kingdom   1898994.6\n",
              "EIRE               39624.1\n",
              "Germany            34758.4\n",
              "France             24395.7\n",
              "Netherlands         8490.6\n",
              "Belgium             6554.3\n",
              "Switzerland         6182.9\n",
              "Spain               4859.2\n",
              "Channel Islands     4291.4\n",
              "Portugal            3912.5"
            ]
          },
          "metadata": {
            "tags": []
          },
          "execution_count": 32
        }
      ]
    },
    {
      "cell_type": "code",
      "metadata": {
        "id": "up8AQp8pRGOJ",
        "colab": {
          "base_uri": "https://localhost:8080/",
          "height": 359
        },
        "outputId": "999dfd10-c4a5-450f-bce0-600ede9c7d03"
      },
      "source": [
        "g = sns.relplot(x='date', y='price', data=df.groupby(pd.Grouper(key='date', freq='B')).sum().reset_index(), kind='line')\n",
        "g.fig.autofmt_xdate()"
      ],
      "execution_count": 33,
      "outputs": [
        {
          "output_type": "display_data",
          "data": {
            "image/png": "[encoded data removed]",
            "text/plain": [
              "<Figure size 360x360 with 1 Axes>"
            ]
          },
          "metadata": {
            "tags": [],
            "needs_background": "light"
          }
        }
      ]
    }
  ]
}